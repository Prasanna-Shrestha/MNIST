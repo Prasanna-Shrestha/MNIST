{
 "cells": [
  {
   "cell_type": "markdown",
   "id": "e1e65128-2ca6-465e-bbd7-c5d6be4ac97d",
   "metadata": {},
   "source": [
    "#### Import relevant libraries"
   ]
  },
  {
   "cell_type": "code",
   "execution_count": 1,
   "id": "7f6a46c4-8180-4ba6-808e-3ce0f3c095c6",
   "metadata": {},
   "outputs": [],
   "source": [
    "import numpy as np\n",
    "import tensorflow as tf\n",
    "import tensorflow_datasets as tfds"
   ]
  },
  {
   "cell_type": "markdown",
   "id": "9d2f4c5f-4436-4fa7-b5c2-18a5a0925e2f",
   "metadata": {},
   "source": [
    "#### Loading the data from tensorflow dataset along the information such as version, features, #samples of datasets"
   ]
  },
  {
   "cell_type": "code",
   "execution_count": 2,
   "id": "09536639-d279-4164-bf9c-2fe971225c5d",
   "metadata": {},
   "outputs": [],
   "source": [
    "mnist_data, mnist_info = tfds.load(name='mnist', as_supervised=True, with_info=True)\n",
    "mnist_train, mnist_test = mnist_data['train'], mnist_data['test']"
   ]
  },
  {
   "cell_type": "markdown",
   "id": "74c5922f-e654-49fe-a302-cfef112a2a8c",
   "metadata": {},
   "source": [
    "#### Defining a function to standardize the dataset and scaling the dataset through the map function"
   ]
  },
  {
   "cell_type": "code",
   "execution_count": 3,
   "id": "3422dbac-ea95-4f17-8cce-754e637ea313",
   "metadata": {},
   "outputs": [],
   "source": [
    "def scale(image, label):\n",
    "    image = tf.cast(image, tf.float32)\n",
    "    image /= 255.\n",
    "    return image, label\n",
    "\n",
    "scaled_train_validation_data = mnist_train.map(scale)\n",
    "scaled_test_data = mnist_test.map(scale)"
   ]
  },
  {
   "cell_type": "markdown",
   "id": "add248df-0018-4a03-8f92-392655190de8",
   "metadata": {},
   "source": [
    "#### From the mnist_info variable, extract the num of samples and store it"
   ]
  },
  {
   "cell_type": "code",
   "execution_count": 4,
   "id": "a42ae7c7-14a6-4750-a58d-8e2fff30742f",
   "metadata": {},
   "outputs": [],
   "source": [
    "num_validation_samples = int(0.1 * mnist_info.splits['train'].num_examples)\n",
    "num_test_samples = int(mnist_info.splits['test'].num_examples)"
   ]
  },
  {
   "cell_type": "markdown",
   "id": "636a6130-ef82-43c2-87de-5f4eeabe2759",
   "metadata": {},
   "source": [
    "#### shuffle the datasets with Buffer size and no of samples"
   ]
  },
  {
   "cell_type": "code",
   "execution_count": 5,
   "id": "e8f8b4f7-9aef-4c24-b2f1-e1547bfd095b",
   "metadata": {},
   "outputs": [],
   "source": [
    "BUFFER_SIZE = 10000\n",
    "\n",
    "train_validation_data = scaled_train_validation_data.shuffle(BUFFER_SIZE)\n",
    "validation_data = train_validation_data.take(num_validation_samples)\n",
    "train_data = train_validation_data.skip(num_validation_samples)"
   ]
  },
  {
   "cell_type": "markdown",
   "id": "97f1d2b9-346c-4ccb-bb27-e71da990236b",
   "metadata": {},
   "source": [
    "#### Batch the dataset to enhance the computational power"
   ]
  },
  {
   "cell_type": "code",
   "execution_count": 6,
   "id": "f8f0d900-f81d-42a3-9b5e-f3c14506ae3b",
   "metadata": {},
   "outputs": [],
   "source": [
    "BATCH_SIZE = 100\n",
    "\n",
    "train_data = train_data.batch(BATCH_SIZE)\n",
    "validation_data = validation_data.batch(num_validation_samples)\n",
    "test_data = scaled_test_data.batch(num_test_samples)\n",
    "\n",
    "validation_inputs, validation_targets = next(iter(validation_data))"
   ]
  },
  {
   "cell_type": "code",
   "execution_count": null,
   "id": "64f8f7b5-9df0-42ea-b080-557fd40e5ce2",
   "metadata": {},
   "outputs": [],
   "source": []
  }
 ],
 "metadata": {
  "kernelspec": {
   "display_name": "py3_TF2.0",
   "language": "python",
   "name": "py3_tf2.0"
  },
  "language_info": {
   "codemirror_mode": {
    "name": "ipython",
    "version": 3
   },
   "file_extension": ".py",
   "mimetype": "text/x-python",
   "name": "python",
   "nbconvert_exporter": "python",
   "pygments_lexer": "ipython3",
   "version": "3.10.13"
  }
 },
 "nbformat": 4,
 "nbformat_minor": 5
}
