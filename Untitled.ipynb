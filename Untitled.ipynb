{
 "cells": [
  {
   "cell_type": "markdown",
   "id": "4bb380e0-69c2-4c8f-8275-8befa206dd34",
   "metadata": {},
   "source": [
    "### Import relevant libraries"
   ]
  },
  {
   "cell_type": "markdown",
   "id": "e1e65128-2ca6-465e-bbd7-c5d6be4ac97d",
   "metadata": {},
   "source": [
    "#### Import relevant libraries"
   ]
  },
  {
   "cell_type": "code",
   "execution_count": 1,
   "id": "7f6a46c4-8180-4ba6-808e-3ce0f3c095c6",
   "metadata": {},
   "outputs": [],
   "source": [
    "import numpy as np\n",
    "import tensorflow as tf\n",
    "import tensorflow_datasets as tfds"
   ]
  },
  {
   "cell_type": "markdown",
   "id": "9d2f4c5f-4436-4fa7-b5c2-18a5a0925e2f",
   "metadata": {},
   "source": [
    "#### Loading the data from tensorflow dataset along the information such as version, features, #samples of datasets"
   ]
  },
  {
   "cell_type": "code",
   "execution_count": 2,
   "id": "09536639-d279-4164-bf9c-2fe971225c5d",
   "metadata": {},
   "outputs": [],
   "source": [
    "mnist_data, mnist_info = tfds.load(name='mnist', as_supervised=True, with_info=True)\n",
    "mnist_train, mnist_test = mnist_data['train'], mnist_data['test']"
   ]
  },
  {
   "cell_type": "markdown",
   "id": "74c5922f-e654-49fe-a302-cfef112a2a8c",
   "metadata": {},
   "source": [
    "#### Defining a function to standardize the dataset and scaling the dataset through the map function"
   ]
  },
  {
   "cell_type": "code",
   "execution_count": 3,
   "id": "3422dbac-ea95-4f17-8cce-754e637ea313",
   "metadata": {},
   "outputs": [],
   "source": [
    "def scale(image, label):\n",
    "    image = tf.cast(image, tf.float32)\n",
    "    image /= 255.\n",
    "    return image, label\n",
    "\n",
    "scaled_train_validation_data = mnist_train.map(scale)\n",
    "scaled_test_data = mnist_test.map(scale)"
   ]
  },
  {
   "cell_type": "code",
   "execution_count": null,
   "id": "a42ae7c7-14a6-4750-a58d-8e2fff30742f",
   "metadata": {},
   "outputs": [],
   "source": []
  }
 ],
 "metadata": {
  "kernelspec": {
   "display_name": "py3_TF2.0",
   "language": "python",
   "name": "py3_tf2.0"
  },
  "language_info": {
   "codemirror_mode": {
    "name": "ipython",
    "version": 3
   },
   "file_extension": ".py",
   "mimetype": "text/x-python",
   "name": "python",
   "nbconvert_exporter": "python",
   "pygments_lexer": "ipython3",
   "version": "3.10.13"
  }
 },
 "nbformat": 4,
 "nbformat_minor": 5
}
