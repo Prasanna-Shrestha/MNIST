{
 "cells": [
  {
   "cell_type": "markdown",
   "id": "e1e65128-2ca6-465e-bbd7-c5d6be4ac97d",
   "metadata": {},
   "source": [
    "#### Import relevant libraries"
   ]
  },
  {
   "cell_type": "code",
   "execution_count": 1,
   "id": "7f6a46c4-8180-4ba6-808e-3ce0f3c095c6",
   "metadata": {},
   "outputs": [],
   "source": [
    "import numpy as np\n",
    "import tensorflow as tf\n",
    "import tensorflow_datasets as tfds"
   ]
  },
  {
   "cell_type": "markdown",
   "id": "9d2f4c5f-4436-4fa7-b5c2-18a5a0925e2f",
   "metadata": {},
   "source": [
    "#### Loading the data from tensorflow dataset along the information such as version, features, #samples of datasets"
   ]
  },
  {
   "cell_type": "code",
   "execution_count": 2,
   "id": "09536639-d279-4164-bf9c-2fe971225c5d",
   "metadata": {},
   "outputs": [],
   "source": [
    "mnist_data, mnist_info = tfds.load(name='mnist', as_supervised=True, with_info=True)\n",
    "mnist_train, mnist_test = mnist_data['train'], mnist_data['test']"
   ]
  },
  {
   "cell_type": "markdown",
   "id": "74c5922f-e654-49fe-a302-cfef112a2a8c",
   "metadata": {},
   "source": [
    "#### Defining a function to standardize the dataset and scaling the dataset through the map function"
   ]
  },
  {
   "cell_type": "code",
   "execution_count": 3,
   "id": "3422dbac-ea95-4f17-8cce-754e637ea313",
   "metadata": {},
   "outputs": [],
   "source": [
    "def scale(image, label):\n",
    "    image = tf.cast(image, tf.float32)\n",
    "    image /= 255.\n",
    "    return image, label\n",
    "\n",
    "scaled_train_validation_data = mnist_train.map(scale)\n",
    "scaled_test_data = mnist_test.map(scale)"
   ]
  },
  {
   "cell_type": "markdown",
   "id": "add248df-0018-4a03-8f92-392655190de8",
   "metadata": {},
   "source": [
    "#### From the mnist_info variable, extract the num of samples and store it"
   ]
  },
  {
   "cell_type": "code",
   "execution_count": 4,
   "id": "a42ae7c7-14a6-4750-a58d-8e2fff30742f",
   "metadata": {},
   "outputs": [],
   "source": [
    "num_validation_samples = int(0.1 * mnist_info.splits['train'].num_examples)\n",
    "num_test_samples = int(mnist_info.splits['test'].num_examples)"
   ]
  },
  {
   "cell_type": "markdown",
   "id": "636a6130-ef82-43c2-87de-5f4eeabe2759",
   "metadata": {},
   "source": [
    "#### shuffle the datasets with Buffer size and no of samples"
   ]
  },
  {
   "cell_type": "code",
   "execution_count": 5,
   "id": "e8f8b4f7-9aef-4c24-b2f1-e1547bfd095b",
   "metadata": {},
   "outputs": [],
   "source": [
    "BUFFER_SIZE = 10000\n",
    "\n",
    "train_validation_data = scaled_train_validation_data.shuffle(BUFFER_SIZE)\n",
    "validation_data = train_validation_data.take(num_validation_samples)\n",
    "train_data = train_validation_data.skip(num_validation_samples)"
   ]
  },
  {
   "cell_type": "markdown",
   "id": "97f1d2b9-346c-4ccb-bb27-e71da990236b",
   "metadata": {},
   "source": [
    "#### Batch the dataset to enhance the computational power"
   ]
  },
  {
   "cell_type": "code",
   "execution_count": 6,
   "id": "f8f0d900-f81d-42a3-9b5e-f3c14506ae3b",
   "metadata": {},
   "outputs": [],
   "source": [
    "BATCH_SIZE = 100\n",
    "\n",
    "train_data = train_data.batch(BATCH_SIZE)\n",
    "validation_data = validation_data.batch(num_validation_samples)\n",
    "test_data = scaled_test_data.batch(num_test_samples)\n",
    "\n",
    "validation_inputs, validation_targets = next(iter(validation_data))"
   ]
  },
  {
   "cell_type": "markdown",
   "id": "c29822ae-7593-4bbd-99cf-3dc7ab6a30e3",
   "metadata": {},
   "source": [
    "#### Outlining the model"
   ]
  },
  {
   "cell_type": "code",
   "execution_count": 7,
   "id": "64f8f7b5-9df0-42ea-b080-557fd40e5ce2",
   "metadata": {},
   "outputs": [],
   "source": [
    "input_size = 784\n",
    "output_size = 10\n",
    "hidden_layer_size = 50\n",
    "\n",
    "model = tf.keras.Sequential([\n",
    "    tf.keras.layers.Flatten(input_shape = (28,28,1)),\n",
    "    tf.keras.layers.Dense(hidden_layer_size, activation='relu'),\n",
    "    tf.keras.layers.Dense(hidden_layer_size, activation='relu'),\n",
    "    tf.keras.layers.Dense(output_size, activation='softmax'),\n",
    "])\n"
   ]
  },
  {
   "cell_type": "markdown",
   "id": "73b1d733-05f1-4c0a-8908-a83ff6a5fa8e",
   "metadata": {},
   "source": [
    "#### Choosing the optimizer and loss"
   ]
  },
  {
   "cell_type": "code",
   "execution_count": 8,
   "id": "74ab8571-c40e-4280-9e5d-c24bfdfeb611",
   "metadata": {},
   "outputs": [],
   "source": [
    "model.compile(optimizer = 'adam',\n",
    "              loss='sparse_categorical_crossentropy',\n",
    "              metrics=['accuracy'])"
   ]
  },
  {
   "cell_type": "markdown",
   "id": "1da6d564-c090-49cd-befe-6143086475ba",
   "metadata": {},
   "source": [
    "#### Training the model"
   ]
  },
  {
   "cell_type": "code",
   "execution_count": null,
   "id": "3eac6138-f236-4886-a37b-eaabc2e8e225",
   "metadata": {},
   "outputs": [
    {
     "name": "stdout",
     "output_type": "stream",
     "text": [
      "Epoch 1/10\n",
      "540/540 - 10s - loss: 0.4124 - accuracy: 0.8804 - val_loss: 0.2155 - val_accuracy: 0.9343 - 10s/epoch - 19ms/step\n",
      "Epoch 2/10\n",
      "540/540 - 5s - loss: 0.1782 - accuracy: 0.9474 - val_loss: 0.1541 - val_accuracy: 0.9528 - 5s/epoch - 9ms/step\n",
      "Epoch 3/10\n",
      "540/540 - 5s - loss: 0.1349 - accuracy: 0.9601 - val_loss: 0.1220 - val_accuracy: 0.9652 - 5s/epoch - 9ms/step\n",
      "Epoch 4/10\n",
      "540/540 - 5s - loss: 0.1088 - accuracy: 0.9681 - val_loss: 0.1016 - val_accuracy: 0.9703 - 5s/epoch - 9ms/step\n",
      "Epoch 5/10\n",
      "540/540 - 5s - loss: 0.0922 - accuracy: 0.9721 - val_loss: 0.0959 - val_accuracy: 0.9722 - 5s/epoch - 9ms/step\n",
      "Epoch 6/10\n",
      "540/540 - 5s - loss: 0.0812 - accuracy: 0.9752 - val_loss: 0.0824 - val_accuracy: 0.9757 - 5s/epoch - 9ms/step\n",
      "Epoch 7/10\n",
      "540/540 - 5s - loss: 0.0701 - accuracy: 0.9787 - val_loss: 0.0783 - val_accuracy: 0.9748 - 5s/epoch - 9ms/step\n",
      "Epoch 8/10\n",
      "540/540 - 5s - loss: 0.0618 - accuracy: 0.9808 - val_loss: 0.0689 - val_accuracy: 0.9793 - 5s/epoch - 9ms/step\n",
      "Epoch 9/10\n",
      "540/540 - 5s - loss: 0.0557 - accuracy: 0.9829 - val_loss: 0.0677 - val_accuracy: 0.9787 - 5s/epoch - 9ms/step\n",
      "Epoch 10/10\n"
     ]
    }
   ],
   "source": [
    "NUM_EPOCHS = 10\n",
    "early_stopping = tf.keras.call\n",
    "model.fit(train_data,\n",
    "          epochs = NUM_EPOCHS,          \n",
    "          validation_data = (validation_inputs, validation_targets),\n",
    "          verbose = 2)"
   ]
  }
 ],
 "metadata": {
  "kernelspec": {
   "display_name": "py3_TF2.0",
   "language": "python",
   "name": "py3_tf2.0"
  },
  "language_info": {
   "codemirror_mode": {
    "name": "ipython",
    "version": 3
   },
   "file_extension": ".py",
   "mimetype": "text/x-python",
   "name": "python",
   "nbconvert_exporter": "python",
   "pygments_lexer": "ipython3",
   "version": "3.10.13"
  }
 },
 "nbformat": 4,
 "nbformat_minor": 5
}
